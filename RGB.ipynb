{
 "cells": [
  {
   "cell_type": "code",
   "execution_count": 1,
   "metadata": {
    "collapsed": true
   },
   "outputs": [],
   "source": [
    "from PIL import Image\n",
    "filepath = \"E:\\photos\\L.jpg\""
   ]
  },
  {
   "cell_type": "code",
   "execution_count": 2,
   "metadata": {
    "collapsed": true
   },
   "outputs": [],
   "source": [
    "def open_image(path):\n",
    "  newImage = Image.open(path)\n",
    "  return newImage"
   ]
  },
  {
   "cell_type": "code",
   "execution_count": 3,
   "metadata": {
    "collapsed": true
   },
   "outputs": [],
   "source": [
    "def save_image(image, path):\n",
    "  image.save(path, 'png')"
   ]
  },
  {
   "cell_type": "code",
   "execution_count": 4,
   "metadata": {
    "collapsed": true
   },
   "outputs": [],
   "source": [
    "def create_image(i, j):\n",
    "  image = Image.new(\"RGB\", (i, j), \"white\")\n",
    "  return image"
   ]
  },
  {
   "cell_type": "code",
   "execution_count": 5,
   "metadata": {
    "collapsed": true
   },
   "outputs": [],
   "source": [
    "def get_pixel(image, i, j):\n",
    "  width, height = image.size\n",
    "  if i > width or j > height:\n",
    "    return None\n",
    "\n",
    "  pixel = image.getpixel((i, j))\n",
    "  return pixel"
   ]
  },
  {
   "cell_type": "code",
   "execution_count": 6,
   "metadata": {
    "collapsed": true
   },
   "outputs": [],
   "source": [
    "def convert_grayscale(image):\n",
    "  width, height = image.size\n",
    "\n",
    "  new = create_image(width, height)\n",
    "  pixels = new.load()\n",
    "\n",
    "  for i in range(width):\n",
    "    for j in range(height):\n",
    "        \n",
    "      pixel = get_pixel(image, i, j)\n",
    "\n",
    "      red =   pixel[0]\n",
    "      green = pixel[1]\n",
    "      blue =  pixel[2]\n",
    "\n",
    "\n",
    "      gray = (red * 0.299) + (green * 0.587) + (blue * 0.114)\n",
    "\n",
    "      pixels[i, j] = (int(gray), int(gray), int(gray))\n",
    "\n",
    "  new.show()\n",
    "  return new\n",
    "\n"
   ]
  },
  {
   "cell_type": "code",
   "execution_count": 7,
   "metadata": {
    "collapsed": true
   },
   "outputs": [],
   "source": [
    "def convert_halftoning(image):\n",
    "\n",
    "  width, height = image.size\n",
    "\n",
    "  new = create_image(width, height)\n",
    "  pixels = new.load()\n",
    "\n",
    "  for i in range(0, width, 2):\n",
    "    for j in range(0, height, 2):\n",
    "\n",
    "      p1 = get_pixel(image, i, j)\n",
    "      p2 = get_pixel(image, i, j + 1)\n",
    "      p3 = get_pixel(image, i + 1, j)\n",
    "      p4 = get_pixel(image, i + 1, j + 1)\n",
    "\n",
    "\n",
    "      gray1 = (p1[0] * 0.299) + (p1[1] * 0.587) + (p1[2] * 0.114)\n",
    "      gray2 = (p2[0] * 0.299) + (p2[1] * 0.587) + (p2[2] * 0.114)\n",
    "      gray3 = (p3[0] * 0.299) + (p3[1] * 0.587) + (p3[2] * 0.114)\n",
    "      gray4 = (p4[0] * 0.299) + (p4[1] * 0.587) + (p4[2] * 0.114)\n",
    "\n",
    "\n",
    "      sat = (gray1 + gray2 + gray3 + gray4) / 4\n",
    "\n",
    "\n",
    "      if sat > 223:\n",
    "         pixels[i, j]         = (255, 255, 255) # White\n",
    "         pixels[i, j + 1]     = (255, 255, 255) # White\n",
    "         pixels[i + 1, j]     = (255, 255, 255) # White\n",
    "         pixels[i + 1, j + 1] = (255, 255, 255) # White\n",
    "      elif sat > 159:\n",
    "         pixels[i, j]         = (255, 255, 255) # White\n",
    "         pixels[i, j + 1]     = (0, 0, 0)       # Black\n",
    "         pixels[i + 1, j]     = (255, 255, 255) # White\n",
    "         pixels[i + 1, j + 1] = (255, 255, 255) # White\n",
    "      elif sat > 95:\n",
    "         pixels[i, j]         = (255, 255, 255) # White\n",
    "         pixels[i, j + 1]     = (0, 0, 0)       # Black\n",
    "         pixels[i + 1, j]     = (0, 0, 0)       # Black\n",
    "         pixels[i + 1, j + 1] = (255, 255, 255) # White\n",
    "      elif sat > 32:\n",
    "         pixels[i, j]         = (0, 0, 0)       # Black\n",
    "         pixels[i, j + 1]     = (255, 255, 255) # White\n",
    "         pixels[i + 1, j]     = (0, 0, 0)       # Black\n",
    "         pixels[i + 1, j + 1] = (0, 0, 0)       # Black\n",
    "      else:\n",
    "         pixels[i, j]         = (0, 0, 0)       # Black\n",
    "         pixels[i, j + 1]     = (0, 0, 0)       # Black\n",
    "         pixels[i + 1, j]     = (0, 0, 0)       # Black\n",
    "         pixels[i + 1, j + 1] = (0, 0, 0)       # Black\n",
    "\n",
    "  new.show()\n",
    "  return new\n",
    "\n"
   ]
  },
  {
   "cell_type": "code",
   "execution_count": 20,
   "metadata": {
    "collapsed": true
   },
   "outputs": [],
   "source": [
    "def get_saturation(value, quadrant):\n",
    "  if value > 223:\n",
    "    return 255\n",
    "  elif value > 159:\n",
    "    if quadrant != 1:\n",
    "      return 255\n",
    "\n",
    "    return 0\n",
    "  elif value > 95:\n",
    "    if quadrant == 0 or quadrant == 3:\n",
    "      return 255\n",
    "\n",
    "    return 0\n",
    "  elif value > 32:\n",
    "    if quadrant == 1:\n",
    "      return 255\n",
    "\n",
    "    return 0\n",
    "  else:\n",
    "    return 0"
   ]
  },
  {
   "cell_type": "code",
   "execution_count": 21,
   "metadata": {
    "collapsed": true
   },
   "outputs": [],
   "source": [
    "def convert_dithering(image):\n",
    "  width, height = image.size\n",
    "\n",
    "\n",
    "  new = create_image(width, height)\n",
    "  pixels = new.load()\n",
    "\n",
    "\n",
    "  for i in range(0, width, 2):\n",
    "    for j in range(0, height, 2):\n",
    "\n",
    "      p1 = get_pixel(image, i, j)\n",
    "      p2 = get_pixel(image, i, j + 1)\n",
    "      p3 = get_pixel(image, i + 1, j)\n",
    "      p4 = get_pixel(image, i + 1, j + 1)\n",
    "\n",
    "      red   = (p1[0] + p2[0] + p3[0] + p4[0]) / 4\n",
    "      green = (p1[1] + p2[1] + p3[1] + p4[1]) / 4\n",
    "      blue  = (p1[2] + p2[2] + p3[2] + p4[2]) / 4\n",
    "\n",
    "      r = [0, 0, 0, 0]\n",
    "      g = [0, 0, 0, 0]\n",
    "      b = [0, 0, 0, 0]\n",
    "\n",
    "      for x in range(0, 4):\n",
    "        r[x] = get_saturation(red, x)\n",
    "        g[x] = get_saturation(green, x)\n",
    "        b[x] = get_saturation(blue, x)\n",
    "\n",
    "      pixels[i, j]         = (r[0], g[0], b[0])\n",
    "      pixels[i, j + 1]     = (r[1], g[1], b[1])\n",
    "      pixels[i + 1, j]     = (r[2], g[2], b[2])\n",
    "      pixels[i + 1, j + 1] = (r[3], g[3], b[3])\n",
    "\n",
    "  new.show()\n",
    "  return new\n",
    "\n"
   ]
  },
  {
   "cell_type": "code",
   "execution_count": 22,
   "metadata": {
    "collapsed": true
   },
   "outputs": [],
   "source": [
    "def convert_primary(image):\n",
    "  width, height = image.size\n",
    "\n",
    "  new = create_image(width, height)\n",
    "  pixels = new.load()\n",
    "\n",
    "  for i in range(width):\n",
    "    for j in range(height):\n",
    "\n",
    "      pixel = get_pixel(image, i, j)\n",
    "\n",
    "      red =   pixel[0]\n",
    "      green = pixel[1]\n",
    "      blue =  pixel[2]\n",
    "\n",
    "      if red > 127:\n",
    "        red = 255\n",
    "      else:\n",
    "        red = 0\n",
    "      if green > 127:\n",
    "        green = 255\n",
    "      else:\n",
    "        green = 0\n",
    "      if blue > 127:\n",
    "        blue = 255\n",
    "      else:\n",
    "        blue = 0\n",
    "\n",
    "      pixels[i, j] = (int(red), int(green), int(blue))\n",
    "\n",
    "  new.show()\n",
    "  return new\n"
   ]
  },
  {
   "cell_type": "code",
   "execution_count": 23,
   "metadata": {},
   "outputs": [],
   "source": [
    "if __name__ == \"__main__\":\n",
    "     \n",
    "      original = open_image(filepath)\n",
    "\n",
    "\n",
    "      new = convert_grayscale(original)\n",
    "      save_image(new, 'D:\\Image_gray.jpg')\n",
    "\n",
    "\n",
    "      new = convert_halftoning(original)\n",
    "      save_image(new, 'D:\\Image_half.jpg')\n",
    "\n",
    "\n",
    "      new = convert_dithering(original)\n",
    "      save_image(new, 'D:\\Image_dither.jpg')\n",
    "\n",
    "\n",
    "      new = convert_primary(original)\n",
    "      save_image(new, 'D:\\Image_primary.jpg')\n",
    "      \n"
   ]
  },
  {
   "cell_type": "code",
   "execution_count": null,
   "metadata": {
    "collapsed": true
   },
   "outputs": [],
   "source": []
  },
  {
   "cell_type": "code",
   "execution_count": null,
   "metadata": {
    "collapsed": true
   },
   "outputs": [],
   "source": []
  }
 ],
 "metadata": {
  "kernelspec": {
   "display_name": "Python 3",
   "language": "python",
   "name": "python3"
  },
  "language_info": {
   "codemirror_mode": {
    "name": "ipython",
    "version": 3
   },
   "file_extension": ".py",
   "mimetype": "text/x-python",
   "name": "python",
   "nbconvert_exporter": "python",
   "pygments_lexer": "ipython3",
   "version": "3.6.3"
  }
 },
 "nbformat": 4,
 "nbformat_minor": 2
}
